{
  "nbformat": 4,
  "nbformat_minor": 0,
  "metadata": {
    "colab": {
      "name": "Week 5 - Seaborn.ipynb",
      "provenance": [],
      "collapsed_sections": []
    },
    "kernelspec": {
      "display_name": "Python 3",
      "language": "python",
      "name": "python3"
    },
    "language_info": {
      "codemirror_mode": {
        "name": "ipython",
        "version": 3
      },
      "file_extension": ".py",
      "mimetype": "text/x-python",
      "name": "python",
      "nbconvert_exporter": "python",
      "pygments_lexer": "ipython3",
      "version": "3.7.4"
    }
  },
  "cells": [
    {
      "cell_type": "markdown",
      "metadata": {
        "id": "nACUEffNlRvQ"
      },
      "source": [
        "# Importing Libraries"
      ]
    },
    {
      "cell_type": "code",
      "metadata": {
        "id": "6nhsqM2BlRvV"
      },
      "source": [
        "import seaborn as sns\n",
        "import pandas as pd\n",
        "import numpy as np"
      ],
      "execution_count": null,
      "outputs": []
    },
    {
      "cell_type": "markdown",
      "metadata": {
        "id": "4jon5PBFlRvW"
      },
      "source": [
        "# Importing data"
      ]
    },
    {
      "cell_type": "code",
      "metadata": {
        "id": "t0_n5-qClRvW"
      },
      "source": [
        "data = pd.read_csv('https://raw.githubusercontent.com/a9zhang/RBS-AI-Spring2020/master/GoSales.csv')"
      ],
      "execution_count": null,
      "outputs": []
    },
    {
      "cell_type": "code",
      "metadata": {
        "id": "laImqqW-lRvW",
        "colab": {
          "base_uri": "https://localhost:8080/",
          "height": 204
        },
        "outputId": "0a7b1dd6-8b8e-4f6e-8cf7-75952f2522b0"
      },
      "source": [
        "data.head() # head function gives us first 5 instances of the data set there is another method tail which give us last 5 instances of dataset"
      ],
      "execution_count": null,
      "outputs": [
        {
          "output_type": "execute_result",
          "data": {
            "text/html": [
              "<div>\n",
              "<style scoped>\n",
              "    .dataframe tbody tr th:only-of-type {\n",
              "        vertical-align: middle;\n",
              "    }\n",
              "\n",
              "    .dataframe tbody tr th {\n",
              "        vertical-align: top;\n",
              "    }\n",
              "\n",
              "    .dataframe thead th {\n",
              "        text-align: right;\n",
              "    }\n",
              "</style>\n",
              "<table border=\"1\" class=\"dataframe\">\n",
              "  <thead>\n",
              "    <tr style=\"text-align: right;\">\n",
              "      <th></th>\n",
              "      <th>GENDER</th>\n",
              "      <th>AGE</th>\n",
              "      <th>MARITAL_STATUS</th>\n",
              "      <th>PROFESSION</th>\n",
              "      <th>IS_TENT</th>\n",
              "      <th>PRODUCT_LINE</th>\n",
              "      <th>PURCHASE_AMOUNT</th>\n",
              "    </tr>\n",
              "  </thead>\n",
              "  <tbody>\n",
              "    <tr>\n",
              "      <th>0</th>\n",
              "      <td>M</td>\n",
              "      <td>27</td>\n",
              "      <td>Single</td>\n",
              "      <td>Professional</td>\n",
              "      <td>True</td>\n",
              "      <td>Camping Equipment</td>\n",
              "      <td>144.78</td>\n",
              "    </tr>\n",
              "    <tr>\n",
              "      <th>1</th>\n",
              "      <td>F</td>\n",
              "      <td>39</td>\n",
              "      <td>Married</td>\n",
              "      <td>Other</td>\n",
              "      <td>False</td>\n",
              "      <td>Outdoor Protection</td>\n",
              "      <td>144.83</td>\n",
              "    </tr>\n",
              "    <tr>\n",
              "      <th>2</th>\n",
              "      <td>F</td>\n",
              "      <td>39</td>\n",
              "      <td>Married</td>\n",
              "      <td>Other</td>\n",
              "      <td>False</td>\n",
              "      <td>Outdoor Protection</td>\n",
              "      <td>137.37</td>\n",
              "    </tr>\n",
              "    <tr>\n",
              "      <th>3</th>\n",
              "      <td>F</td>\n",
              "      <td>56</td>\n",
              "      <td>Unspecified</td>\n",
              "      <td>Hospitality</td>\n",
              "      <td>False</td>\n",
              "      <td>Personal Accessories</td>\n",
              "      <td>92.61</td>\n",
              "    </tr>\n",
              "    <tr>\n",
              "      <th>4</th>\n",
              "      <td>M</td>\n",
              "      <td>45</td>\n",
              "      <td>Married</td>\n",
              "      <td>Retired</td>\n",
              "      <td>False</td>\n",
              "      <td>Golf Equipment</td>\n",
              "      <td>119.04</td>\n",
              "    </tr>\n",
              "  </tbody>\n",
              "</table>\n",
              "</div>"
            ],
            "text/plain": [
              "  GENDER  AGE MARITAL_STATUS  ... IS_TENT          PRODUCT_LINE PURCHASE_AMOUNT\n",
              "0      M   27         Single  ...    True     Camping Equipment          144.78\n",
              "1      F   39        Married  ...   False    Outdoor Protection          144.83\n",
              "2      F   39        Married  ...   False    Outdoor Protection          137.37\n",
              "3      F   56    Unspecified  ...   False  Personal Accessories           92.61\n",
              "4      M   45        Married  ...   False        Golf Equipment          119.04\n",
              "\n",
              "[5 rows x 7 columns]"
            ]
          },
          "metadata": {
            "tags": []
          },
          "execution_count": 4
        }
      ]
    },
    {
      "cell_type": "code",
      "metadata": {
        "id": "RdFZgOaglRvX"
      },
      "source": [
        "data.PURCHASE_AMOUNT = data.PURCHASE_AMOUNT.astype(int) #changing data type of Purchase_amount to integer"
      ],
      "execution_count": null,
      "outputs": []
    },
    {
      "cell_type": "code",
      "metadata": {
        "id": "QKGP1qwZlRvY"
      },
      "source": [
        "data = pd.DataFrame(data) #converting into dataframe"
      ],
      "execution_count": null,
      "outputs": []
    },
    {
      "cell_type": "code",
      "metadata": {
        "id": "7OFb74KOlRvY"
      },
      "source": [
        "#Converting strings to integer\n",
        "data = data.replace({'M' : 1})\n",
        "data = data.replace({'F' :0})\n",
        "data = data.replace({'Single' :0})\n",
        "data = data.replace({'Married' :1})\n",
        "data = data.replace({'Unspecified' :2})\n",
        "data = data.replace({'Professional':0})\n",
        "data = data.replace({'Other':1})\n",
        "data = data.replace({'Hospitality':2})\n",
        "data = data.replace({'Retired':3})\n",
        "data = data.replace({'Retail':4})\n",
        "data = data.replace({'Sales':5})\n",
        "data = data.replace({'Trades':6})\n",
        "data = data.replace({'Student':7})\n",
        "data = data.replace({'Executive':8})\n",
        "data = data.replace({True:1})\n",
        "data = data.replace({False:0})\n",
        "data = data.replace({'Camping Equipment':0})\n",
        "data = data.replace({'Outdoor Protection':1})\n",
        "data = data.replace({'Personal Accessories':2})\n",
        "data = data.replace({'Golf Equipment':3})\n",
        "data = data.replace({'Mountaineering Equipment':4})\n",
        "\n",
        "\n"
      ],
      "execution_count": null,
      "outputs": []
    },
    {
      "cell_type": "code",
      "metadata": {
        "colab": {
          "base_uri": "https://localhost:8080/",
          "height": 419
        },
        "id": "LVYT0yMHF77U",
        "outputId": "7afec3bc-5567-486f-b9e8-be98a47d1847"
      },
      "source": [
        "display(data)"
      ],
      "execution_count": null,
      "outputs": [
        {
          "output_type": "display_data",
          "data": {
            "text/html": [
              "<div>\n",
              "<style scoped>\n",
              "    .dataframe tbody tr th:only-of-type {\n",
              "        vertical-align: middle;\n",
              "    }\n",
              "\n",
              "    .dataframe tbody tr th {\n",
              "        vertical-align: top;\n",
              "    }\n",
              "\n",
              "    .dataframe thead th {\n",
              "        text-align: right;\n",
              "    }\n",
              "</style>\n",
              "<table border=\"1\" class=\"dataframe\">\n",
              "  <thead>\n",
              "    <tr style=\"text-align: right;\">\n",
              "      <th></th>\n",
              "      <th>GENDER</th>\n",
              "      <th>AGE</th>\n",
              "      <th>MARITAL_STATUS</th>\n",
              "      <th>PROFESSION</th>\n",
              "      <th>IS_TENT</th>\n",
              "      <th>PRODUCT_LINE</th>\n",
              "      <th>PURCHASE_AMOUNT</th>\n",
              "    </tr>\n",
              "  </thead>\n",
              "  <tbody>\n",
              "    <tr>\n",
              "      <th>0</th>\n",
              "      <td>1</td>\n",
              "      <td>27</td>\n",
              "      <td>0</td>\n",
              "      <td>0</td>\n",
              "      <td>1</td>\n",
              "      <td>0</td>\n",
              "      <td>144</td>\n",
              "    </tr>\n",
              "    <tr>\n",
              "      <th>1</th>\n",
              "      <td>0</td>\n",
              "      <td>39</td>\n",
              "      <td>1</td>\n",
              "      <td>1</td>\n",
              "      <td>0</td>\n",
              "      <td>1</td>\n",
              "      <td>144</td>\n",
              "    </tr>\n",
              "    <tr>\n",
              "      <th>2</th>\n",
              "      <td>0</td>\n",
              "      <td>39</td>\n",
              "      <td>1</td>\n",
              "      <td>1</td>\n",
              "      <td>0</td>\n",
              "      <td>1</td>\n",
              "      <td>137</td>\n",
              "    </tr>\n",
              "    <tr>\n",
              "      <th>3</th>\n",
              "      <td>0</td>\n",
              "      <td>56</td>\n",
              "      <td>2</td>\n",
              "      <td>2</td>\n",
              "      <td>0</td>\n",
              "      <td>2</td>\n",
              "      <td>92</td>\n",
              "    </tr>\n",
              "    <tr>\n",
              "      <th>4</th>\n",
              "      <td>1</td>\n",
              "      <td>45</td>\n",
              "      <td>1</td>\n",
              "      <td>3</td>\n",
              "      <td>0</td>\n",
              "      <td>3</td>\n",
              "      <td>119</td>\n",
              "    </tr>\n",
              "    <tr>\n",
              "      <th>...</th>\n",
              "      <td>...</td>\n",
              "      <td>...</td>\n",
              "      <td>...</td>\n",
              "      <td>...</td>\n",
              "      <td>...</td>\n",
              "      <td>...</td>\n",
              "      <td>...</td>\n",
              "    </tr>\n",
              "    <tr>\n",
              "      <th>60247</th>\n",
              "      <td>1</td>\n",
              "      <td>24</td>\n",
              "      <td>0</td>\n",
              "      <td>0</td>\n",
              "      <td>1</td>\n",
              "      <td>2</td>\n",
              "      <td>126</td>\n",
              "    </tr>\n",
              "    <tr>\n",
              "      <th>60248</th>\n",
              "      <td>1</td>\n",
              "      <td>24</td>\n",
              "      <td>0</td>\n",
              "      <td>0</td>\n",
              "      <td>1</td>\n",
              "      <td>2</td>\n",
              "      <td>133</td>\n",
              "    </tr>\n",
              "    <tr>\n",
              "      <th>60249</th>\n",
              "      <td>0</td>\n",
              "      <td>27</td>\n",
              "      <td>1</td>\n",
              "      <td>4</td>\n",
              "      <td>0</td>\n",
              "      <td>0</td>\n",
              "      <td>106</td>\n",
              "    </tr>\n",
              "    <tr>\n",
              "      <th>60250</th>\n",
              "      <td>0</td>\n",
              "      <td>20</td>\n",
              "      <td>0</td>\n",
              "      <td>1</td>\n",
              "      <td>0</td>\n",
              "      <td>2</td>\n",
              "      <td>98</td>\n",
              "    </tr>\n",
              "    <tr>\n",
              "      <th>60251</th>\n",
              "      <td>0</td>\n",
              "      <td>37</td>\n",
              "      <td>1</td>\n",
              "      <td>1</td>\n",
              "      <td>0</td>\n",
              "      <td>1</td>\n",
              "      <td>137</td>\n",
              "    </tr>\n",
              "  </tbody>\n",
              "</table>\n",
              "<p>60252 rows × 7 columns</p>\n",
              "</div>"
            ],
            "text/plain": [
              "       GENDER  AGE  MARITAL_STATUS  ...  IS_TENT  PRODUCT_LINE  PURCHASE_AMOUNT\n",
              "0           1   27               0  ...        1             0              144\n",
              "1           0   39               1  ...        0             1              144\n",
              "2           0   39               1  ...        0             1              137\n",
              "3           0   56               2  ...        0             2               92\n",
              "4           1   45               1  ...        0             3              119\n",
              "...       ...  ...             ...  ...      ...           ...              ...\n",
              "60247       1   24               0  ...        1             2              126\n",
              "60248       1   24               0  ...        1             2              133\n",
              "60249       0   27               1  ...        0             0              106\n",
              "60250       0   20               0  ...        0             2               98\n",
              "60251       0   37               1  ...        0             1              137\n",
              "\n",
              "[60252 rows x 7 columns]"
            ]
          },
          "metadata": {
            "tags": []
          }
        }
      ]
    },
    {
      "cell_type": "markdown",
      "metadata": {
        "id": "A0ASgsCDlRvY"
      },
      "source": [
        "# Visualization"
      ]
    },
    {
      "cell_type": "markdown",
      "metadata": {
        "id": "rgYdeYu1lRvY"
      },
      "source": [
        "<h3> Barplot </h3>"
      ]
    },
    {
      "cell_type": "code",
      "metadata": {
        "id": "VeVZIdjElRvZ",
        "colab": {
          "base_uri": "https://localhost:8080/",
          "height": 296
        },
        "outputId": "40b407b0-870c-4252-f6c6-e1105a3a5f8f"
      },
      "source": [
        "sns.barplot(x='GENDER',y = data.PURCHASE_AMOUNT,data=data) "
      ],
      "execution_count": null,
      "outputs": [
        {
          "output_type": "execute_result",
          "data": {
            "text/plain": [
              "<matplotlib.axes._subplots.AxesSubplot at 0x7f9213975d68>"
            ]
          },
          "metadata": {
            "tags": []
          },
          "execution_count": 9
        },
        {
          "output_type": "display_data",
          "data": {
            "image/png": "[encoded data removed]",
            "text/plain": [
              "<Figure size 432x288 with 1 Axes>"
            ]
          },
          "metadata": {
            "tags": [],
            "needs_background": "light"
          }
        }
      ]
    },
    {
      "cell_type": "markdown",
      "metadata": {
        "id": "UpT9p1OXlRvZ"
      },
      "source": [
        "<h3> Countplot</h3>\n"
      ]
    },
    {
      "cell_type": "code",
      "metadata": {
        "id": "_q4pzdCKlRvZ",
        "colab": {
          "base_uri": "https://localhost:8080/",
          "height": 296
        },
        "outputId": "388fe58b-4175-40a9-cdbb-8edd8b55ef05"
      },
      "source": [
        "sns.countplot(x='GENDER',data=data,hue='MARITAL_STATUS') #countplot tells us that there are more females married than males married"
      ],
      "execution_count": null,
      "outputs": [
        {
          "output_type": "execute_result",
          "data": {
            "text/plain": [
              "<matplotlib.axes._subplots.AxesSubplot at 0x7f92138e0748>"
            ]
          },
          "metadata": {
            "tags": []
          },
          "execution_count": 10
        },
        {
          "output_type": "display_data",
          "data": {
            "image/png": "[encoded data removed]",
            "text/plain": [
              "<Figure size 432x288 with 1 Axes>"
            ]
          },
          "metadata": {
            "tags": [],
            "needs_background": "light"
          }
        }
      ]
    },
    {
      "cell_type": "code",
      "metadata": {
        "id": "d3uKvC_mlRva"
      },
      "source": [
        ""
      ],
      "execution_count": null,
      "outputs": []
    }
  ]
}