{
  "cells": [
    {
      "cell_type": "markdown",
      "metadata": {
        "id": "uT4ofs0FSEe9"
      },
      "source": [
        "# Importing Packages & Looking into data"
      ]
    },
    {
      "cell_type": "code",
      "execution_count": null,
      "metadata": {
        "colab": {
          "background_save": true
        },
        "id": "oM1n4wqWSEfC"
      },
      "outputs": [],
      "source": [
        "import numpy as np\n",
        "import pandas as pd\n",
        "import matplotlib.pyplot as plt\n",
        "import seaborn as sns\n",
        "from sklearn.linear_model import LinearRegression\n",
        "from sklearn.naive_bayes import GaussianNB\n",
        "from sklearn.model_selection import train_test_split\n",
        "from sklearn.metrics import mean_absolute_error as mae\n",
        "from sklearn.metrics import mean_squared_error as mse\n",
        "from sklearn.metrics import r2_score as r2\n",
        "from sklearn.preprocessing import StandardScaler\n",
        "from sklearn.tree import DecisionTreeClassifier\n",
        "from sklearn.ensemble import RandomForestClassifier\n",
        "from sklearn.ensemble import GradientBoostingRegressor as gb\n",
        "from sklearn.linear_model import Ridge\n",
        "from sklearn.linear_model import Lasso\n",
        "from sklearn.svm import SVR\n",
        "from sklearn.model_selection import cross_val_score\n",
        "import warnings\n",
        "warnings.simplefilter('ignore')\n",
        "from sklearn.metrics import confusion_matrix , classification_report\n",
        "from sklearn.metrics import accuracy_score\n",
        "from sklearn.linear_model import LogisticRegression \n",
        "from sklearn.svm import SVC\n",
        "import xgboost as xgb"
      ]
    },
    {
      "cell_type": "code",
      "execution_count": null,
      "metadata": {
        "colab": {
          "background_save": true
        },
        "id": "wmEJZLnUSEfE"
      },
      "outputs": [],
      "source": [
        "data = pd.read_csv('https://raw.githubusercontent.com/a9zhang/RBS-AI-Spring2020/master/GoSales.csv') #loading csv file"
      ]
    },
    {
      "cell_type": "code",
      "execution_count": null,
      "metadata": {
        "colab": {
          "background_save": true
        },
        "id": "unzMQEiMSEfE"
      },
      "outputs": [],
      "source": [
        "data.head() # head function gives us first 5 instances of the data set there is another method tail which give us last 5 instances of dataset"
      ]
    },
    {
      "cell_type": "markdown",
      "metadata": {
        "id": "0tpOOYJdSEfG"
      },
      "source": [
        "# Pre-Processing"
      ]
    },
    {
      "cell_type": "code",
      "execution_count": null,
      "metadata": {
        "colab": {
          "background_save": true
        },
        "id": "l0gwu37_SEfG"
      },
      "outputs": [],
      "source": [
        "data.isna().sum() #isna() function tell us if there are any null values in our data set"
      ]
    },
    {
      "cell_type": "code",
      "execution_count": null,
      "metadata": {
        "colab": {
          "background_save": true
        },
        "id": "3sUSip6XSEfG"
      },
      "outputs": [],
      "source": [
        "sns.heatmap(data.isnull(), cmap='coolwarm',xticklabels=True,yticklabels=False,cbar=False) #This is another way of visually determine if there is any null values in each attribute"
      ]
    },
    {
      "cell_type": "code",
      "execution_count": null,
      "metadata": {
        "colab": {
          "background_save": true
        },
        "id": "pstiOekTSEfH"
      },
      "outputs": [],
      "source": [
        "data.PURCHASE_AMOUNT = data.PURCHASE_AMOUNT.astype(int) #changing data type of Purchase_amount to integer"
      ]
    },
    {
      "cell_type": "code",
      "execution_count": null,
      "metadata": {
        "colab": {
          "background_save": true
        },
        "id": "_T0cfKuQSEfH"
      },
      "outputs": [],
      "source": [
        "data = pd.DataFrame(data) #converting into dataframe"
      ]
    },
    {
      "cell_type": "code",
      "execution_count": null,
      "metadata": {
        "colab": {
          "background_save": true
        },
        "id": "8_vEuUuUSEfH"
      },
      "outputs": [],
      "source": [
        "#Converting strings to integer\n",
        "data = data.replace({'M' : 1})\n",
        "data = data.replace({'F' :0})\n",
        "data = data.replace({'Single' :0})\n",
        "data = data.replace({'Married' :1})\n",
        "data = data.replace({'Unspecified' :2})\n",
        "data = data.replace({'Professional':0})\n",
        "data = data.replace({'Other':1})\n",
        "data = data.replace({'Hospitality':2})\n",
        "data = data.replace({'Retired':3})\n",
        "data = data.replace({'Retail':4})\n",
        "data = data.replace({'Sales':5})\n",
        "data = data.replace({'Trades':6})\n",
        "data = data.replace({'Student':7})\n",
        "data = data.replace({'Executive':8})\n",
        "data = data.replace({True:1})\n",
        "data = data.replace({False:0})\n",
        "data = data.replace({'Camping Equipment':0})\n",
        "data = data.replace({'Outdoor Protection':1})\n",
        "data = data.replace({'Personal Accessories':2})\n",
        "data = data.replace({'Golf Equipment':3})\n",
        "data = data.replace({'Mountaineering Equipment':4})\n",
        "\n",
        "\n"
      ]
    },
    {
      "cell_type": "code",
      "execution_count": null,
      "metadata": {
        "colab": {
          "background_save": true
        },
        "id": "29d8DsV9SEfI"
      },
      "outputs": [],
      "source": [
        "data.tail()"
      ]
    },
    {
      "cell_type": "markdown",
      "metadata": {
        "id": "K2UeS5TsSEfI"
      },
      "source": [
        "# EDA\n",
        "1. Using Metrics"
      ]
    },
    {
      "cell_type": "code",
      "execution_count": null,
      "metadata": {
        "colab": {
          "background_save": true
        },
        "id": "NgXiBirsSEfJ"
      },
      "outputs": [],
      "source": [
        "data.info() #info methods helps us to give insight about the structure of data like how many atttributes. instance, data type of each instance and if there is any null value ot not"
      ]
    },
    {
      "cell_type": "code",
      "execution_count": null,
      "metadata": {
        "colab": {
          "background_save": true
        },
        "id": "cdi0G3UjSEfJ"
      },
      "outputs": [],
      "source": [
        "data.describe() #Define is used to gt different statistics about the data like Mean, Standard deviation etc."
      ]
    },
    {
      "cell_type": "code",
      "execution_count": null,
      "metadata": {
        "colab": {
          "background_save": true
        },
        "id": "rUJ1kEMuSEfK"
      },
      "outputs": [],
      "source": [
        "data.skew() # skew() function is used to check skewness in data"
      ]
    },
    {
      "cell_type": "code",
      "execution_count": null,
      "metadata": {
        "colab": {
          "background_save": true
        },
        "id": "QbfyCwleSEfL"
      },
      "outputs": [],
      "source": [
        "sns.boxplot(x=data['AGE']) #Box plot helps us to determine if there are any outliers or not 33"
      ]
    },
    {
      "cell_type": "markdown",
      "metadata": {
        "id": "pWw6FSQbSEfM"
      },
      "source": [
        "# EDA\n",
        "2. Using Visualization"
      ]
    },
    {
      "cell_type": "code",
      "execution_count": null,
      "metadata": {
        "colab": {
          "background_save": true
        },
        "id": "oc-N1tHeSEfN",
        "scrolled": true
      },
      "outputs": [],
      "source": [
        "sns.pairplot(data) # Parplot helps to get one to one relation between all attributes in dataset"
      ]
    },
    {
      "cell_type": "code",
      "execution_count": null,
      "metadata": {
        "colab": {
          "background_save": true
        },
        "id": "q9WrLyobSEfN"
      },
      "outputs": [],
      "source": [
        "sns.pairplot(data, x_vars=['GENDER','AGE','MARITAL_STATUS','PROFESSION','IS_TENT','PRODUCT_LINE'], y_vars='PURCHASE_AMOUNT', size=7, aspect=0.7, kind='reg')"
      ]
    },
    {
      "cell_type": "code",
      "execution_count": null,
      "metadata": {
        "colab": {
          "background_save": true
        },
        "id": "p6R_aBYLSEfO"
      },
      "outputs": [],
      "source": [
        "sns.barplot(x='GENDER',y = data.PURCHASE_AMOUNT,data=data) "
      ]
    },
    {
      "cell_type": "markdown",
      "metadata": {
        "id": "5ygwwY7xSEfP"
      },
      "source": [
        "Results from barplot between Gender and Purchase amount tells us that Male(1) purchase more articles as compare to females "
      ]
    },
    {
      "cell_type": "code",
      "execution_count": null,
      "metadata": {
        "colab": {
          "background_save": true
        },
        "id": "tRsm2VAjSEfP"
      },
      "outputs": [],
      "source": [
        "sns.jointplot(x = 'MARITAL_STATUS', y = 'PURCHASE_AMOUNT',data = data)"
      ]
    },
    {
      "cell_type": "code",
      "execution_count": null,
      "metadata": {
        "colab": {
          "background_save": true
        },
        "id": "kbVK6aKeSEfP"
      },
      "outputs": [],
      "source": [
        "sns.countplot(x='GENDER',data=data,hue='MARITAL_STATUS') #countplot tells us that there are more females married than males married"
      ]
    },
    {
      "cell_type": "code",
      "execution_count": null,
      "metadata": {
        "colab": {
          "background_save": true
        },
        "id": "6-JhW4pbSEfP"
      },
      "outputs": [],
      "source": [
        "sns.heatmap(data.corr()) # correlation heatmap tells us how correlated attributes are to each other"
      ]
    },
    {
      "cell_type": "code",
      "execution_count": null,
      "metadata": {
        "colab": {
          "background_save": true
        },
        "id": "HVH8vDdoSEfQ"
      },
      "outputs": [],
      "source": [
        "sns.barplot(x='MARITAL_STATUS',y = data.PURCHASE_AMOUNT,data=data)"
      ]
    },
    {
      "cell_type": "markdown",
      "metadata": {
        "id": "6IHJDfq3SEfQ"
      },
      "source": [
        "Barplot between maritial_status and purchase amount tells us that married class purchased most as compared to other classes"
      ]
    },
    {
      "cell_type": "code",
      "execution_count": null,
      "metadata": {
        "colab": {
          "background_save": true
        },
        "id": "poFMhe96SEfQ"
      },
      "outputs": [],
      "source": [
        "sns.barplot(x='PROFESSION',y = data.PURCHASE_AMOUNT,data=data)"
      ]
    },
    {
      "cell_type": "markdown",
      "metadata": {
        "id": "ergrWWObSEfQ"
      },
      "source": [
        "Barplot between Profession and purchase amount tells us that executive class purchased most as compared to other classes"
      ]
    },
    {
      "cell_type": "code",
      "execution_count": null,
      "metadata": {
        "colab": {
          "background_save": true
        },
        "id": "onFHhWKKSEfQ"
      },
      "outputs": [],
      "source": [
        "sns.barplot(x='PRODUCT_LINE',y = data.PURCHASE_AMOUNT,data=data)"
      ]
    },
    {
      "cell_type": "markdown",
      "metadata": {
        "id": "Wr8JxD_4SEfR"
      },
      "source": [
        "Barplot between Product_Line and purchase amount tells us that outdoor protections class purchased most as compared to other classes"
      ]
    },
    {
      "cell_type": "markdown",
      "metadata": {
        "id": "qCeZqtTHSEfR"
      },
      "source": [
        "# Regression "
      ]
    },
    {
      "cell_type": "markdown",
      "metadata": {
        "id": "w1ylWVk3SEfR"
      },
      "source": [
        "# Spliting the dataset into independent variables X and dependent variable y "
      ]
    },
    {
      "cell_type": "code",
      "execution_count": null,
      "metadata": {
        "colab": {
          "background_save": true
        },
        "id": "vSGRYjpbSEfR"
      },
      "outputs": [],
      "source": [
        "X = data.drop('PURCHASE_AMOUNT',axis =1 )"
      ]
    },
    {
      "cell_type": "code",
      "execution_count": null,
      "metadata": {
        "colab": {
          "background_save": true
        },
        "id": "C7uFiRY7SEfS"
      },
      "outputs": [],
      "source": [
        "y = data['PURCHASE_AMOUNT']"
      ]
    },
    {
      "cell_type": "markdown",
      "metadata": {
        "id": "cUfL45aySEfS"
      },
      "source": [
        "# Feature Scaling"
      ]
    },
    {
      "cell_type": "code",
      "execution_count": null,
      "metadata": {
        "colab": {
          "background_save": true
        },
        "id": "gkIaw4lISEfT"
      },
      "outputs": [],
      "source": [
        "Sc = StandardScaler()"
      ]
    },
    {
      "cell_type": "code",
      "execution_count": null,
      "metadata": {
        "colab": {
          "background_save": true
        },
        "id": "-FYrDSBvSEfT"
      },
      "outputs": [],
      "source": [
        "X = Sc.fit_transform(X)"
      ]
    },
    {
      "cell_type": "markdown",
      "metadata": {
        "id": "nnX7wF-KSEfT"
      },
      "source": [
        "# Spliting Data into Test and Train Data"
      ]
    },
    {
      "cell_type": "code",
      "execution_count": null,
      "metadata": {
        "colab": {
          "background_save": true
        },
        "id": "TX6WtcV0SEfT"
      },
      "outputs": [],
      "source": [
        "X_train,X_test,y_train,y_test = train_test_split(X,y,test_size = 0.3 , random_state = 123)"
      ]
    },
    {
      "cell_type": "markdown",
      "metadata": {
        "id": "6X_nrve5SEfT"
      },
      "source": [
        "# Trying Several Machine Learning Classification Algorithms¶\n",
        "\n",
        "1. Linear Regression\n",
        "2. Decision Tree\n",
        "3. Random Forest\n",
        "4. Gradient Boosting\n",
        "5. Ridge\n",
        "6. Lasso\n",
        "7. SVR\n"
      ]
    },
    {
      "cell_type": "markdown",
      "metadata": {
        "id": "_kzzhWs8SEfU"
      },
      "source": [
        "# Function we will use to analyse algorithms\n",
        "1. mse = Mean Square Error\n",
        "2. mae = Mean Absolute Error\n",
        "3. R2 = R-Squared Error\n",
        "4. Variance"
      ]
    },
    {
      "cell_type": "code",
      "execution_count": null,
      "metadata": {
        "colab": {
          "background_save": true
        },
        "id": "UFg9tMjVSEfU"
      },
      "outputs": [],
      "source": [
        "def analyse(y_test,predict):\n",
        "    print(\"Mean Sqauare Error : %.2f \" % mse(y_test,predict))\n",
        "    print(\"Mean absolute error : %.2f\" %mae(y_test,predict))\n",
        "    print(\"R-Squared Error : %.2f\" %r2(y_test,predict))\n",
        "    print('Variance score: %.2f' % model.score(X_test, y_test))"
      ]
    },
    {
      "cell_type": "markdown",
      "metadata": {
        "id": "MTgHCm0TSEfU"
      },
      "source": [
        "# Linear Regression"
      ]
    },
    {
      "cell_type": "code",
      "execution_count": null,
      "metadata": {
        "colab": {
          "base_uri": "https://localhost:8080/",
          "height": 166
        },
        "id": "fmpylTg4SEfU",
        "outputId": "3a497586-0403-4680-d903-261cf476e7e8"
      },
      "outputs": [
        {
          "output_type": "error",
          "ename": "NameError",
          "evalue": "ignored",
          "traceback": [
            "\u001b[0;31m---------------------------------------------------------------------------\u001b[0m",
            "\u001b[0;31mNameError\u001b[0m                                 Traceback (most recent call last)",
            "\u001b[0;32m<ipython-input-1-28d4d21f64c7>\u001b[0m in \u001b[0;36m<module>\u001b[0;34m()\u001b[0m\n\u001b[0;32m----> 1\u001b[0;31m \u001b[0mmodel\u001b[0m \u001b[0;34m=\u001b[0m \u001b[0mLinearRegression\u001b[0m\u001b[0;34m(\u001b[0m\u001b[0;34m)\u001b[0m\u001b[0;34m\u001b[0m\u001b[0;34m\u001b[0m\u001b[0m\n\u001b[0m",
            "\u001b[0;31mNameError\u001b[0m: name 'LinearRegression' is not defined"
          ]
        }
      ],
      "source": [
        "model = LinearRegression()"
      ]
    },
    {
      "cell_type": "code",
      "execution_count": null,
      "metadata": {
        "id": "OxF7X2AGSEfV"
      },
      "outputs": [],
      "source": [
        "model.fit(X_train,y_train)"
      ]
    },
    {
      "cell_type": "code",
      "execution_count": null,
      "metadata": {
        "id": "RwvP_EtmSEfV"
      },
      "outputs": [],
      "source": [
        "predict = model.predict(X_test)"
      ]
    },
    {
      "cell_type": "code",
      "execution_count": null,
      "metadata": {
        "id": "Lh6ABg3fSEfV"
      },
      "outputs": [],
      "source": [
        "accuracies = cross_val_score(estimator = model , X = X_train,y=y_train)\n",
        "round(accuracies.mean(),2)"
      ]
    },
    {
      "cell_type": "code",
      "execution_count": null,
      "metadata": {
        "id": "Hrpr-ZRgSEfW"
      },
      "outputs": [],
      "source": [
        "analyse(y_test,predict)"
      ]
    },
    {
      "cell_type": "markdown",
      "metadata": {
        "id": "0RQpGMj7SEfW"
      },
      "source": [
        "# Gradient Boosting"
      ]
    },
    {
      "cell_type": "code",
      "execution_count": null,
      "metadata": {
        "colab": {
          "base_uri": "https://localhost:8080/",
          "height": 166
        },
        "id": "VRGbvC_1SEfY",
        "outputId": "b422bf39-9cb7-4a1d-9f32-7ef941db05cd"
      },
      "outputs": [
        {
          "output_type": "error",
          "ename": "NameError",
          "evalue": "ignored",
          "traceback": [
            "\u001b[0;31m---------------------------------------------------------------------------\u001b[0m",
            "\u001b[0;31mNameError\u001b[0m                                 Traceback (most recent call last)",
            "\u001b[0;32m<ipython-input-2-f907f75a9311>\u001b[0m in \u001b[0;36m<module>\u001b[0;34m()\u001b[0m\n\u001b[0;32m----> 1\u001b[0;31m \u001b[0mmodel\u001b[0m \u001b[0;34m=\u001b[0m \u001b[0mgb\u001b[0m\u001b[0;34m(\u001b[0m\u001b[0;34m)\u001b[0m\u001b[0;34m\u001b[0m\u001b[0;34m\u001b[0m\u001b[0m\n\u001b[0m",
            "\u001b[0;31mNameError\u001b[0m: name 'gb' is not defined"
          ]
        }
      ],
      "source": [
        "model = gb()"
      ]
    },
    {
      "cell_type": "code",
      "execution_count": null,
      "metadata": {
        "colab": {
          "base_uri": "https://localhost:8080/",
          "height": 166
        },
        "id": "u3CB-2ULSEfY",
        "outputId": "55eb3f43-ef25-4144-c07e-f332764d05a7"
      },
      "outputs": [
        {
          "output_type": "error",
          "ename": "NameError",
          "evalue": "ignored",
          "traceback": [
            "\u001b[0;31m---------------------------------------------------------------------------\u001b[0m",
            "\u001b[0;31mNameError\u001b[0m                                 Traceback (most recent call last)",
            "\u001b[0;32m<ipython-input-3-b7a8c64777c1>\u001b[0m in \u001b[0;36m<module>\u001b[0;34m()\u001b[0m\n\u001b[0;32m----> 1\u001b[0;31m \u001b[0mmodel\u001b[0m\u001b[0;34m.\u001b[0m\u001b[0mfit\u001b[0m\u001b[0;34m(\u001b[0m\u001b[0mX_train\u001b[0m\u001b[0;34m,\u001b[0m\u001b[0my_train\u001b[0m\u001b[0;34m)\u001b[0m\u001b[0;34m\u001b[0m\u001b[0;34m\u001b[0m\u001b[0m\n\u001b[0m",
            "\u001b[0;31mNameError\u001b[0m: name 'model' is not defined"
          ]
        }
      ],
      "source": [
        "model.fit(X_train,y_train)"
      ]
    },
    {
      "cell_type": "code",
      "execution_count": null,
      "metadata": {
        "colab": {
          "base_uri": "https://localhost:8080/",
          "height": 166
        },
        "id": "x-VnJA4ESEfZ",
        "outputId": "9aa91b3e-938c-48b7-eed0-ec9b526c6200"
      },
      "outputs": [
        {
          "output_type": "error",
          "ename": "NameError",
          "evalue": "ignored",
          "traceback": [
            "\u001b[0;31m---------------------------------------------------------------------------\u001b[0m",
            "\u001b[0;31mNameError\u001b[0m                                 Traceback (most recent call last)",
            "\u001b[0;32m<ipython-input-4-a8e767840cfa>\u001b[0m in \u001b[0;36m<module>\u001b[0;34m()\u001b[0m\n\u001b[0;32m----> 1\u001b[0;31m \u001b[0mpredict\u001b[0m \u001b[0;34m=\u001b[0m \u001b[0mmodel\u001b[0m\u001b[0;34m.\u001b[0m\u001b[0mpredict\u001b[0m\u001b[0;34m(\u001b[0m\u001b[0mX_test\u001b[0m\u001b[0;34m)\u001b[0m\u001b[0;34m\u001b[0m\u001b[0;34m\u001b[0m\u001b[0m\n\u001b[0m",
            "\u001b[0;31mNameError\u001b[0m: name 'model' is not defined"
          ]
        }
      ],
      "source": [
        "predict = model.predict(X_test)"
      ]
    },
    {
      "cell_type": "code",
      "execution_count": null,
      "metadata": {
        "colab": {
          "base_uri": "https://localhost:8080/",
          "height": 184
        },
        "id": "HGljZs6oSEfZ",
        "outputId": "a27d55ca-a969-42db-b607-bd3c082cd509"
      },
      "outputs": [
        {
          "output_type": "error",
          "ename": "NameError",
          "evalue": "ignored",
          "traceback": [
            "\u001b[0;31m---------------------------------------------------------------------------\u001b[0m",
            "\u001b[0;31mNameError\u001b[0m                                 Traceback (most recent call last)",
            "\u001b[0;32m<ipython-input-5-d5c3a20d4058>\u001b[0m in \u001b[0;36m<module>\u001b[0;34m()\u001b[0m\n\u001b[0;32m----> 1\u001b[0;31m \u001b[0maccuracies\u001b[0m \u001b[0;34m=\u001b[0m \u001b[0mcross_val_score\u001b[0m\u001b[0;34m(\u001b[0m\u001b[0mestimator\u001b[0m \u001b[0;34m=\u001b[0m \u001b[0mmodel\u001b[0m \u001b[0;34m,\u001b[0m \u001b[0mX\u001b[0m \u001b[0;34m=\u001b[0m \u001b[0mX_train\u001b[0m\u001b[0;34m,\u001b[0m\u001b[0my\u001b[0m\u001b[0;34m=\u001b[0m\u001b[0my_train\u001b[0m\u001b[0;34m)\u001b[0m\u001b[0;34m\u001b[0m\u001b[0;34m\u001b[0m\u001b[0m\n\u001b[0m\u001b[1;32m      2\u001b[0m \u001b[0mround\u001b[0m\u001b[0;34m(\u001b[0m\u001b[0maccuracies\u001b[0m\u001b[0;34m.\u001b[0m\u001b[0mmean\u001b[0m\u001b[0;34m(\u001b[0m\u001b[0;34m)\u001b[0m\u001b[0;34m,\u001b[0m\u001b[0;36m2\u001b[0m\u001b[0;34m)\u001b[0m\u001b[0;34m\u001b[0m\u001b[0;34m\u001b[0m\u001b[0m\n",
            "\u001b[0;31mNameError\u001b[0m: name 'cross_val_score' is not defined"
          ]
        }
      ],
      "source": [
        "accuracies = cross_val_score(estimator = model , X = X_train,y=y_train)\n",
        "round(accuracies.mean(),2)"
      ]
    },
    {
      "cell_type": "code",
      "execution_count": null,
      "metadata": {
        "colab": {
          "base_uri": "https://localhost:8080/",
          "height": 166
        },
        "id": "aRt-uYBbSEfa",
        "outputId": "2fe17575-6c41-4fd4-8697-1de5dcaa1f35"
      },
      "outputs": [
        {
          "output_type": "error",
          "ename": "NameError",
          "evalue": "ignored",
          "traceback": [
            "\u001b[0;31m---------------------------------------------------------------------------\u001b[0m",
            "\u001b[0;31mNameError\u001b[0m                                 Traceback (most recent call last)",
            "\u001b[0;32m<ipython-input-6-8195335f6981>\u001b[0m in \u001b[0;36m<module>\u001b[0;34m()\u001b[0m\n\u001b[0;32m----> 1\u001b[0;31m \u001b[0manalyse\u001b[0m\u001b[0;34m(\u001b[0m\u001b[0my_test\u001b[0m\u001b[0;34m,\u001b[0m\u001b[0mpredict\u001b[0m\u001b[0;34m)\u001b[0m\u001b[0;34m\u001b[0m\u001b[0;34m\u001b[0m\u001b[0m\n\u001b[0m",
            "\u001b[0;31mNameError\u001b[0m: name 'analyse' is not defined"
          ]
        }
      ],
      "source": [
        "analyse(y_test,predict)"
      ]
    },
    {
      "cell_type": "markdown",
      "metadata": {
        "id": "8fJ9Wq1gSEfb"
      },
      "source": [
        "# Ridge"
      ]
    },
    {
      "cell_type": "code",
      "execution_count": null,
      "metadata": {
        "colab": {
          "background_save": true
        },
        "id": "AKqhQOYGSEfb"
      },
      "outputs": [],
      "source": [
        "model = Ridge(alpha = 1.0)"
      ]
    },
    {
      "cell_type": "code",
      "execution_count": null,
      "metadata": {
        "colab": {
          "background_save": true
        },
        "id": "9EC-MrbQSEfb"
      },
      "outputs": [],
      "source": [
        "model.fit(X_train,y_train)"
      ]
    },
    {
      "cell_type": "code",
      "execution_count": null,
      "metadata": {
        "colab": {
          "background_save": true
        },
        "id": "rkGJObU0SEfb"
      },
      "outputs": [],
      "source": [
        "predict = model.predict(X_test)"
      ]
    },
    {
      "cell_type": "code",
      "execution_count": null,
      "metadata": {
        "colab": {
          "background_save": true
        },
        "id": "R_JRaPYQSEfc"
      },
      "outputs": [],
      "source": [
        "accuracies = cross_val_score(estimator = model , X = X_train,y=y_train)\n",
        "round(accuracies.mean(),2)"
      ]
    },
    {
      "cell_type": "code",
      "execution_count": null,
      "metadata": {
        "colab": {
          "background_save": true
        },
        "id": "Z4_8FJ36SEfc"
      },
      "outputs": [],
      "source": [
        "analyse(y_test,predict)"
      ]
    },
    {
      "cell_type": "markdown",
      "metadata": {
        "id": "uMHA85djSEfc"
      },
      "source": [
        "# Lasso"
      ]
    },
    {
      "cell_type": "code",
      "execution_count": null,
      "metadata": {
        "colab": {
          "background_save": true
        },
        "id": "qn7G6ZtXSEfc"
      },
      "outputs": [],
      "source": [
        "model = Lasso(alpha = 1.0)\n",
        "model.fit(X_train,y_train)\n",
        "predict = model.predict(X_test)\n",
        "accuracies = cross_val_score(estimator = model , X = X_train,y=y_train)\n",
        "print(round(accuracies.mean(),2))\n",
        "analyse(y_test,predict)"
      ]
    },
    {
      "cell_type": "markdown",
      "metadata": {
        "id": "lLCddFa-SEfc"
      },
      "source": [
        "# SVR"
      ]
    },
    {
      "cell_type": "code",
      "execution_count": null,
      "metadata": {
        "colab": {
          "background_save": true
        },
        "id": "4zWb9TI_SEfc"
      },
      "outputs": [],
      "source": [
        "model = SVR(gamma='scale', C=1.0, epsilon=0.2)\n",
        "model.fit(X_train,y_train)\n",
        "predict = model.predict(X_test)\n",
        "print(round(accuracies.mean(),2))\n",
        "analyse(y_test,predict)"
      ]
    },
    {
      "cell_type": "markdown",
      "metadata": {
        "id": "ffS1IKWpSEfd"
      },
      "source": [
        "# Classification"
      ]
    },
    {
      "cell_type": "code",
      "execution_count": null,
      "metadata": {
        "colab": {
          "background_save": true
        },
        "id": "uLU_z6-jSEfd"
      },
      "outputs": [],
      "source": [
        "sns.barplot(x='GENDER',y = data.PRODUCT_LINE,data=data)"
      ]
    },
    {
      "cell_type": "code",
      "execution_count": null,
      "metadata": {
        "colab": {
          "background_save": true
        },
        "id": "_17r43bXSEfd"
      },
      "outputs": [],
      "source": [
        "sns.jointplot(x = 'MARITAL_STATUS', y = 'PURCHASE_AMOUNT',data = data)"
      ]
    },
    {
      "cell_type": "code",
      "execution_count": null,
      "metadata": {
        "colab": {
          "background_save": true
        },
        "id": "88Syv8AXSEfd"
      },
      "outputs": [],
      "source": [
        "X = data.drop('PRODUCT_LINE',axis =1)\n",
        "y = data['PRODUCT_LINE']"
      ]
    },
    {
      "cell_type": "code",
      "execution_count": null,
      "metadata": {
        "colab": {
          "background_save": true
        },
        "id": "QAtam4blSEfe"
      },
      "outputs": [],
      "source": [
        "def models(X_train,y_train,X_test,y_test):\n",
        "    print('Select 1 : Naive Bayes, 2: Logistic Regression, 3: Support Vector Machines, 4: Decision Tree, 5: RandomForestClassifier,6:Xtreme gradient boosting')\n",
        "    mo = int(input())\n",
        "    if mo == 1 :\n",
        "        model = GaussianNB()\n",
        "    elif mo == 2 :\n",
        "        model = LogisticRegression()\n",
        "    elif mo == 3 :\n",
        "        model = SVC(probability = True)\n",
        "    elif mo == 4 :\n",
        "        model = DecisionTreeClassifier()\n",
        "    elif mo == 5 :\n",
        "        model = RandomForestClassifier(random_state=15325)\n",
        "    elif mo == 6 :\n",
        "        model = xgb.XGBClassifier()\n",
        "    else :\n",
        "        print('Invalid Entry')\n",
        "    model.fit(X_train,y_train)\n",
        "    predict= model.predict(X_test)\n",
        "    print(accuracy_score(y_test,predict))\n",
        "    accuracies = cross_val_score(estimator = model , X= X_train , y=y_train , cv =10)\n",
        "    print(accuracies.mean())\n",
        "    print(classification_report(y_test,predict))\n",
        "    print(confusion_matrix(y_test,predict))\n",
        "    \n",
        "    \n",
        "    \n",
        "        "
      ]
    },
    {
      "cell_type": "code",
      "execution_count": null,
      "metadata": {
        "colab": {
          "background_save": true
        },
        "id": "0Fr2dlLOSEfe"
      },
      "outputs": [],
      "source": [
        "X = Sc.fit_transform(X)"
      ]
    },
    {
      "cell_type": "code",
      "execution_count": null,
      "metadata": {
        "colab": {
          "background_save": true
        },
        "id": "wr0nm_gtSEfe"
      },
      "outputs": [],
      "source": [
        "X_train,X_test,y_train,y_test = train_test_split(X,y,test_size = 0.3 , random_state = 123)"
      ]
    },
    {
      "cell_type": "code",
      "execution_count": null,
      "metadata": {
        "colab": {
          "background_save": true
        },
        "id": "j_jX64oFSEfe",
        "outputId": "caf79e4f-18d5-404d-f50c-1c62a16460dd"
      },
      "outputs": [
        {
          "name": "stdout",
          "output_type": "stream",
          "text": [
            "Select 1 : Naive Bayes, 2: Logistic Regression, 3: Support Vector Machines, 4: Decision Tree, 5: RandomForestClassifier,6:Xtreme gradient boosting\n"
          ]
        },
        {
          "ename": "KeyboardInterrupt",
          "evalue": "ignored",
          "output_type": "error",
          "traceback": [
            "\u001b[0;31m---------------------------------------------------------------------------\u001b[0m",
            "\u001b[0;31mKeyboardInterrupt\u001b[0m                         Traceback (most recent call last)",
            "\u001b[0;32m/usr/local/lib/python3.7/dist-packages/ipykernel/kernelbase.py\u001b[0m in \u001b[0;36m_input_request\u001b[0;34m(self, prompt, ident, parent, password)\u001b[0m\n\u001b[1;32m    728\u001b[0m             \u001b[0;32mtry\u001b[0m\u001b[0;34m:\u001b[0m\u001b[0;34m\u001b[0m\u001b[0;34m\u001b[0m\u001b[0m\n\u001b[0;32m--> 729\u001b[0;31m                 \u001b[0mident\u001b[0m\u001b[0;34m,\u001b[0m \u001b[0mreply\u001b[0m \u001b[0;34m=\u001b[0m \u001b[0mself\u001b[0m\u001b[0;34m.\u001b[0m\u001b[0msession\u001b[0m\u001b[0;34m.\u001b[0m\u001b[0mrecv\u001b[0m\u001b[0;34m(\u001b[0m\u001b[0mself\u001b[0m\u001b[0;34m.\u001b[0m\u001b[0mstdin_socket\u001b[0m\u001b[0;34m,\u001b[0m \u001b[0;36m0\u001b[0m\u001b[0;34m)\u001b[0m\u001b[0;34m\u001b[0m\u001b[0;34m\u001b[0m\u001b[0m\n\u001b[0m\u001b[1;32m    730\u001b[0m             \u001b[0;32mexcept\u001b[0m \u001b[0mException\u001b[0m\u001b[0;34m:\u001b[0m\u001b[0;34m\u001b[0m\u001b[0;34m\u001b[0m\u001b[0m\n",
            "\u001b[0;32m/usr/local/lib/python3.7/dist-packages/jupyter_client/session.py\u001b[0m in \u001b[0;36mrecv\u001b[0;34m(self, socket, mode, content, copy)\u001b[0m\n\u001b[1;32m    802\u001b[0m         \u001b[0;32mtry\u001b[0m\u001b[0;34m:\u001b[0m\u001b[0;34m\u001b[0m\u001b[0;34m\u001b[0m\u001b[0m\n\u001b[0;32m--> 803\u001b[0;31m             \u001b[0mmsg_list\u001b[0m \u001b[0;34m=\u001b[0m \u001b[0msocket\u001b[0m\u001b[0;34m.\u001b[0m\u001b[0mrecv_multipart\u001b[0m\u001b[0;34m(\u001b[0m\u001b[0mmode\u001b[0m\u001b[0;34m,\u001b[0m \u001b[0mcopy\u001b[0m\u001b[0;34m=\u001b[0m\u001b[0mcopy\u001b[0m\u001b[0;34m)\u001b[0m\u001b[0;34m\u001b[0m\u001b[0;34m\u001b[0m\u001b[0m\n\u001b[0m\u001b[1;32m    804\u001b[0m         \u001b[0;32mexcept\u001b[0m \u001b[0mzmq\u001b[0m\u001b[0;34m.\u001b[0m\u001b[0mZMQError\u001b[0m \u001b[0;32mas\u001b[0m \u001b[0me\u001b[0m\u001b[0;34m:\u001b[0m\u001b[0;34m\u001b[0m\u001b[0;34m\u001b[0m\u001b[0m\n",
            "\u001b[0;32m/usr/local/lib/python3.7/dist-packages/zmq/sugar/socket.py\u001b[0m in \u001b[0;36mrecv_multipart\u001b[0;34m(self, flags, copy, track)\u001b[0m\n\u001b[1;32m    582\u001b[0m         \"\"\"\n\u001b[0;32m--> 583\u001b[0;31m         \u001b[0mparts\u001b[0m \u001b[0;34m=\u001b[0m \u001b[0;34m[\u001b[0m\u001b[0mself\u001b[0m\u001b[0;34m.\u001b[0m\u001b[0mrecv\u001b[0m\u001b[0;34m(\u001b[0m\u001b[0mflags\u001b[0m\u001b[0;34m,\u001b[0m \u001b[0mcopy\u001b[0m\u001b[0;34m=\u001b[0m\u001b[0mcopy\u001b[0m\u001b[0;34m,\u001b[0m \u001b[0mtrack\u001b[0m\u001b[0;34m=\u001b[0m\u001b[0mtrack\u001b[0m\u001b[0;34m)\u001b[0m\u001b[0;34m]\u001b[0m\u001b[0;34m\u001b[0m\u001b[0;34m\u001b[0m\u001b[0m\n\u001b[0m\u001b[1;32m    584\u001b[0m         \u001b[0;31m# have first part already, only loop while more to receive\u001b[0m\u001b[0;34m\u001b[0m\u001b[0;34m\u001b[0m\u001b[0;34m\u001b[0m\u001b[0m\n",
            "\u001b[0;32mzmq/backend/cython/socket.pyx\u001b[0m in \u001b[0;36mzmq.backend.cython.socket.Socket.recv\u001b[0;34m()\u001b[0m\n",
            "\u001b[0;32mzmq/backend/cython/socket.pyx\u001b[0m in \u001b[0;36mzmq.backend.cython.socket.Socket.recv\u001b[0;34m()\u001b[0m\n",
            "\u001b[0;32mzmq/backend/cython/socket.pyx\u001b[0m in \u001b[0;36mzmq.backend.cython.socket._recv_copy\u001b[0;34m()\u001b[0m\n",
            "\u001b[0;32m/usr/local/lib/python3.7/dist-packages/zmq/backend/cython/checkrc.pxd\u001b[0m in \u001b[0;36mzmq.backend.cython.checkrc._check_rc\u001b[0;34m()\u001b[0m\n",
            "\u001b[0;31mKeyboardInterrupt\u001b[0m: ",
            "\nDuring handling of the above exception, another exception occurred:\n",
            "\u001b[0;31mKeyboardInterrupt\u001b[0m                         Traceback (most recent call last)",
            "\u001b[0;32m<ipython-input-52-aa4bd777d118>\u001b[0m in \u001b[0;36m<module>\u001b[0;34m()\u001b[0m\n\u001b[0;32m----> 1\u001b[0;31m \u001b[0mmodels\u001b[0m\u001b[0;34m(\u001b[0m\u001b[0mX_train\u001b[0m\u001b[0;34m,\u001b[0m\u001b[0my_train\u001b[0m\u001b[0;34m,\u001b[0m\u001b[0mX_test\u001b[0m\u001b[0;34m,\u001b[0m\u001b[0my_test\u001b[0m\u001b[0;34m)\u001b[0m\u001b[0;34m\u001b[0m\u001b[0;34m\u001b[0m\u001b[0m\n\u001b[0m",
            "\u001b[0;32m<ipython-input-49-659dfac14aa6>\u001b[0m in \u001b[0;36mmodels\u001b[0;34m(X_train, y_train, X_test, y_test)\u001b[0m\n\u001b[1;32m      1\u001b[0m \u001b[0;32mdef\u001b[0m \u001b[0mmodels\u001b[0m\u001b[0;34m(\u001b[0m\u001b[0mX_train\u001b[0m\u001b[0;34m,\u001b[0m\u001b[0my_train\u001b[0m\u001b[0;34m,\u001b[0m\u001b[0mX_test\u001b[0m\u001b[0;34m,\u001b[0m\u001b[0my_test\u001b[0m\u001b[0;34m)\u001b[0m\u001b[0;34m:\u001b[0m\u001b[0;34m\u001b[0m\u001b[0;34m\u001b[0m\u001b[0m\n\u001b[1;32m      2\u001b[0m     \u001b[0mprint\u001b[0m\u001b[0;34m(\u001b[0m\u001b[0;34m'Select 1 : Naive Bayes, 2: Logistic Regression, 3: Support Vector Machines, 4: Decision Tree, 5: RandomForestClassifier,6:Xtreme gradient boosting'\u001b[0m\u001b[0;34m)\u001b[0m\u001b[0;34m\u001b[0m\u001b[0;34m\u001b[0m\u001b[0m\n\u001b[0;32m----> 3\u001b[0;31m     \u001b[0mmo\u001b[0m \u001b[0;34m=\u001b[0m \u001b[0mint\u001b[0m\u001b[0;34m(\u001b[0m\u001b[0minput\u001b[0m\u001b[0;34m(\u001b[0m\u001b[0;34m)\u001b[0m\u001b[0;34m)\u001b[0m\u001b[0;34m\u001b[0m\u001b[0;34m\u001b[0m\u001b[0m\n\u001b[0m\u001b[1;32m      4\u001b[0m     \u001b[0;32mif\u001b[0m \u001b[0mmo\u001b[0m \u001b[0;34m==\u001b[0m \u001b[0;36m1\u001b[0m \u001b[0;34m:\u001b[0m\u001b[0;34m\u001b[0m\u001b[0;34m\u001b[0m\u001b[0m\n\u001b[1;32m      5\u001b[0m         \u001b[0mmodel\u001b[0m \u001b[0;34m=\u001b[0m \u001b[0mGaussianNB\u001b[0m\u001b[0;34m(\u001b[0m\u001b[0;34m)\u001b[0m\u001b[0;34m\u001b[0m\u001b[0;34m\u001b[0m\u001b[0m\n",
            "\u001b[0;32m/usr/local/lib/python3.7/dist-packages/ipykernel/kernelbase.py\u001b[0m in \u001b[0;36mraw_input\u001b[0;34m(self, prompt)\u001b[0m\n\u001b[1;32m    702\u001b[0m             \u001b[0mself\u001b[0m\u001b[0;34m.\u001b[0m\u001b[0m_parent_ident\u001b[0m\u001b[0;34m,\u001b[0m\u001b[0;34m\u001b[0m\u001b[0;34m\u001b[0m\u001b[0m\n\u001b[1;32m    703\u001b[0m             \u001b[0mself\u001b[0m\u001b[0;34m.\u001b[0m\u001b[0m_parent_header\u001b[0m\u001b[0;34m,\u001b[0m\u001b[0;34m\u001b[0m\u001b[0;34m\u001b[0m\u001b[0m\n\u001b[0;32m--> 704\u001b[0;31m             \u001b[0mpassword\u001b[0m\u001b[0;34m=\u001b[0m\u001b[0;32mFalse\u001b[0m\u001b[0;34m,\u001b[0m\u001b[0;34m\u001b[0m\u001b[0;34m\u001b[0m\u001b[0m\n\u001b[0m\u001b[1;32m    705\u001b[0m         )\n\u001b[1;32m    706\u001b[0m \u001b[0;34m\u001b[0m\u001b[0m\n",
            "\u001b[0;32m/usr/local/lib/python3.7/dist-packages/ipykernel/kernelbase.py\u001b[0m in \u001b[0;36m_input_request\u001b[0;34m(self, prompt, ident, parent, password)\u001b[0m\n\u001b[1;32m    732\u001b[0m             \u001b[0;32mexcept\u001b[0m \u001b[0mKeyboardInterrupt\u001b[0m\u001b[0;34m:\u001b[0m\u001b[0;34m\u001b[0m\u001b[0;34m\u001b[0m\u001b[0m\n\u001b[1;32m    733\u001b[0m                 \u001b[0;31m# re-raise KeyboardInterrupt, to truncate traceback\u001b[0m\u001b[0;34m\u001b[0m\u001b[0;34m\u001b[0m\u001b[0;34m\u001b[0m\u001b[0m\n\u001b[0;32m--> 734\u001b[0;31m                 \u001b[0;32mraise\u001b[0m \u001b[0mKeyboardInterrupt\u001b[0m\u001b[0;34m\u001b[0m\u001b[0;34m\u001b[0m\u001b[0m\n\u001b[0m\u001b[1;32m    735\u001b[0m             \u001b[0;32melse\u001b[0m\u001b[0;34m:\u001b[0m\u001b[0;34m\u001b[0m\u001b[0;34m\u001b[0m\u001b[0m\n\u001b[1;32m    736\u001b[0m                 \u001b[0;32mbreak\u001b[0m\u001b[0;34m\u001b[0m\u001b[0;34m\u001b[0m\u001b[0m\n",
            "\u001b[0;31mKeyboardInterrupt\u001b[0m: "
          ]
        }
      ],
      "source": [
        "models(X_train,y_train,X_test,y_test)"
      ]
    },
    {
      "cell_type": "code",
      "execution_count": null,
      "metadata": {
        "colab": {
          "background_save": true
        },
        "id": "25V4hplOSEfe"
      },
      "outputs": [],
      "source": [
        ""
      ]
    }
  ],
  "metadata": {
    "colab": {
      "collapsed_sections": [
        "pWw6FSQbSEfM",
        "qCeZqtTHSEfR",
        "w1ylWVk3SEfR",
        "cUfL45aySEfS",
        "nnX7wF-KSEfT",
        "6X_nrve5SEfT",
        "_kzzhWs8SEfU",
        "MTgHCm0TSEfU",
        "0RQpGMj7SEfW",
        "8fJ9Wq1gSEfb",
        "uMHA85djSEfc",
        "lLCddFa-SEfc",
        "ffS1IKWpSEfd"
      ],
      "name": "Week 6 - SKLearn.ipynb",
      "provenance": []
    },
    "kernelspec": {
      "display_name": "Python 3",
      "language": "python",
      "name": "python3"
    },
    "language_info": {
      "codemirror_mode": {
        "name": "ipython",
        "version": 3
      },
      "file_extension": ".py",
      "mimetype": "text/x-python",
      "name": "python",
      "nbconvert_exporter": "python",
      "pygments_lexer": "ipython3",
      "version": "3.7.4"
    }
  },
  "nbformat": 4,
  "nbformat_minor": 0
}